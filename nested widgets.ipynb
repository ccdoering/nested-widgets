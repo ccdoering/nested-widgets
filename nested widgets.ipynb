{
 "cells": [
  {
   "cell_type": "code",
   "execution_count": 3,
   "metadata": {},
   "outputs": [],
   "source": [
    "import ipywidgets as widgets\n",
    "import os\n",
    "\n",
    "alldir = []\n",
    "def filewalker(input_dir):\n",
    "    for all_files in os.listdir(input_dir):\n",
    "        alldir.append(all_files)\n",
    "    return\n",
    "\n",
    "ask_input_dir = widgets.Button(\n",
    "    description='Input Directory',\n",
    ")\n",
    "\n",
    "out_input = widgets.Output()\n",
    "\n",
    "out_select_files = widgets.Output()\n",
    "\n",
    "%gui qt\n",
    "from PyQt5.QtWidgets import QFileDialog\n",
    "\n",
    "def select_input_dir(dir=None):\n",
    "    \"\"\"Select a folder via a dialog and return the folder name.\"\"\"\n",
    "    if dir is None: dir ='./'\n",
    "    input_dir = str(QFileDialog.getExistingDirectory(None, \"Select Directory\"))\n",
    "    return input_dir #[0]"
   ]
  },
  {
   "cell_type": "code",
   "execution_count": 4,
   "metadata": {},
   "outputs": [
    {
     "data": {
      "application/vnd.jupyter.widget-view+json": {
       "model_id": "e2b59ea7ed42492f95e5890d52e5cbaa",
       "version_major": 2,
       "version_minor": 0
      },
      "text/plain": [
       "Button(description='Input Directory', style=ButtonStyle())"
      ]
     },
     "metadata": {},
     "output_type": "display_data"
    }
   ],
   "source": [
    "ask_input_dir"
   ]
  },
  {
   "cell_type": "code",
   "execution_count": 5,
   "metadata": {},
   "outputs": [],
   "source": [
    "@ask_input_dir.on_click\n",
    "def ask_on_click(dir):\n",
    "    global input_dir\n",
    "    input_dir=select_input_dir()\n",
    "    filewalker(input_dir)\n",
    "    print (alldir)\n",
    "    select_files = widgets.SelectMultiple(\n",
    "        options=alldir,\n",
    "        #value='['+alldir[0]+']',\n",
    "        rows=len(alldir)+1,\n",
    "        description='Files',\n",
    "        disabled=False\n",
    "    )\n",
    "    with out_input:\n",
    "        out_input.clear_output()\n",
    "        print('Input directory:',input_dir)\n",
    "    with out_select_files:\n",
    "        out_select_files.clear_output()\n",
    "        display(select_files)\n",
    "    return input_dir, select_files"
   ]
  },
  {
   "cell_type": "code",
   "execution_count": 6,
   "metadata": {},
   "outputs": [
    {
     "data": {
      "application/vnd.jupyter.widget-view+json": {
       "model_id": "ab021664f4c74ff7ac4bd6cd81d6e223",
       "version_major": 2,
       "version_minor": 0
      },
      "text/plain": [
       "Output()"
      ]
     },
     "metadata": {},
     "output_type": "display_data"
    }
   ],
   "source": [
    "display(out_input)"
   ]
  },
  {
   "cell_type": "code",
   "execution_count": 7,
   "metadata": {},
   "outputs": [
    {
     "data": {
      "application/vnd.jupyter.widget-view+json": {
       "model_id": "c45e09ced3764577ae77a372f7c76db2",
       "version_major": 2,
       "version_minor": 0
      },
      "text/plain": [
       "Output()"
      ]
     },
     "metadata": {},
     "output_type": "display_data"
    }
   ],
   "source": [
    "display(out_select_files)"
   ]
  },
  {
   "cell_type": "code",
   "execution_count": null,
   "metadata": {},
   "outputs": [],
   "source": []
  }
 ],
 "metadata": {
  "kernelspec": {
   "display_name": "Python 3",
   "language": "python",
   "name": "python3"
  },
  "language_info": {
   "codemirror_mode": {
    "name": "ipython",
    "version": 3
   },
   "file_extension": ".py",
   "mimetype": "text/x-python",
   "name": "python",
   "nbconvert_exporter": "python",
   "pygments_lexer": "ipython3",
   "version": "3.7.7"
  }
 },
 "nbformat": 4,
 "nbformat_minor": 4
}
